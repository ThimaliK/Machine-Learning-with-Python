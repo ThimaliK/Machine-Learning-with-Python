{
 "cells": [
  {
   "cell_type": "code",
   "execution_count": 7,
   "metadata": {},
   "outputs": [],
   "source": [
    "import numpy as np\n",
    "from sklearn import preprocessing, neighbors\n",
    "import pandas as pd\n",
    "from sklearn.model_selection import train_test_split"
   ]
  },
  {
   "cell_type": "code",
   "execution_count": 8,
   "metadata": {},
   "outputs": [],
   "source": [
    "df = pd.read_csv('breast-cancer-wisconsin.data')\n",
    "df.replace('?', -99999, inplace=True)\n",
    "df.drop(['id'], 1, inplace=True)"
   ]
  },
  {
   "cell_type": "code",
   "execution_count": 9,
   "metadata": {},
   "outputs": [],
   "source": [
    "X = np.array(df.drop(['class'], 1))\n",
    "y = np.array(df['class'])"
   ]
  },
  {
   "cell_type": "code",
   "execution_count": 10,
   "metadata": {},
   "outputs": [
    {
     "data": {
      "text/plain": [
       "KNeighborsClassifier()"
      ]
     },
     "execution_count": 10,
     "metadata": {},
     "output_type": "execute_result"
    }
   ],
   "source": [
    "X_train, X_test, y_train, y_test = train_test_split(X, y, test_size = 0.2)\n",
    "\n",
    "clf = neighbors.KNeighborsClassifier()\n",
    "clf.fit(X_train, y_train)"
   ]
  },
  {
   "cell_type": "code",
   "execution_count": 11,
   "metadata": {},
   "outputs": [
    {
     "name": "stdout",
     "output_type": "stream",
     "text": [
      "0.9714285714285714\n"
     ]
    }
   ],
   "source": [
    "accuracy = clf.score(X_test, y_test)\n",
    "print(accuracy)"
   ]
  },
  {
   "cell_type": "code",
   "execution_count": 16,
   "metadata": {},
   "outputs": [
    {
     "name": "stdout",
     "output_type": "stream",
     "text": [
      "[2 2]\n"
     ]
    }
   ],
   "source": [
    "example_measures = np.array([[4, 2, 1, 1, 1, 2, 3, 2, 1], [4, 2, 1, 2, 2, 2, 3, 2, 1]])\n",
    "example_measures = example_measures.reshape(len(example_measures), -1)\n",
    "\n",
    "prediction = clf.predict(example_measures)\n",
    "print(prediction)"
   ]
  },
  {
   "cell_type": "code",
   "execution_count": 16,
   "metadata": {},
   "outputs": [],
   "source": [
    "# KNN from scratch\n",
    "\n",
    "import numpy as np\n",
    "from math import sqrt\n",
    "import matplotlib.pyplot as plt\n",
    "import warnings\n",
    "from matplotlib import style\n",
    "from collections import Counter\n",
    "style.use('fivethirtyeight')\n",
    "\n",
    "import pandas as pd\n",
    "import random\n"
   ]
  },
  {
   "cell_type": "code",
   "execution_count": 17,
   "metadata": {},
   "outputs": [
    {
     "name": "stdout",
     "output_type": "stream",
     "text": [
      "2.23606797749979\n"
     ]
    }
   ],
   "source": [
    "# Euclidean Distance\n",
    "\n",
    "plot1 = [1, 3]\n",
    "plot2 = [2, 5]\n",
    "\n",
    "euclidean_distance = sqrt((plot1[0] - plot2[0])**2 + (plot1[1] - plot2[1])**2)\n",
    "\n",
    "print(euclidean_distance)"
   ]
  },
  {
   "cell_type": "code",
   "execution_count": 18,
   "metadata": {},
   "outputs": [
    {
     "data": {
      "image/png": "[encoded data removed]",
      "text/plain": [
       "<Figure size 432x288 with 1 Axes>"
      ]
     },
     "metadata": {},
     "output_type": "display_data"
    }
   ],
   "source": [
    "dataset = {'k':[[1, 2],[2, 3],[3, 1]], 'r':[[6,5], [7,7], [8,6]]}\n",
    "new_features = [5,7]\n",
    "\n",
    "for i in dataset:\n",
    "    for ii in dataset[i]:\n",
    "        plt.scatter(ii[0], ii[1], s=100, color=i)\n",
    "\n",
    "plt.scatter(new_features[0], new_features[1], s=100)\n",
    "plt.show()"
   ]
  },
  {
   "cell_type": "code",
   "execution_count": 81,
   "metadata": {},
   "outputs": [],
   "source": [
    "def k_nearest_neighbors(data, predict, k):\n",
    "    if len(data) >= k:\n",
    "        warnings.warn('K is set to a value less than total voting groups! IDIOT!')\n",
    "    \n",
    "    distances = []\n",
    "    \n",
    "    for group in data:\n",
    "        for features in data[group]:\n",
    "            \n",
    "            #   euclidean_distance = sqrt((features[0] - predict[0])**2 + (features[1] - predict[1])**2) not fast, only for 2D\n",
    "            #   euclidean_distance = np.sqrt(np.sum((np.array(features) - np.array(predict)) ** 2)) theres a simpler version\n",
    "\n",
    "            euclidean_distance = np.linalg.norm(np.array(features) - np.array(predict)) #faster\n",
    "            distances.append([[euclidean_distance], [group]])\n",
    "        \n",
    "    votes = [i[1] for i in sorted(distances)[:k]]\n",
    "    \n",
    "    true_votes = []\n",
    "    for i in votes:\n",
    "        true_votes.append(i[0])\n",
    "    \n",
    "    print(\"true_votes\", true_votes)\n",
    "#     vote_result = Counter(true_votes).most_common(1)[0][0]\n",
    "\n",
    "#     vote_result = Counter(votes).most_common(1)[0][0]\n",
    "#     confidence = Counter(true_votes).most_common(1)[0][1] / k\n",
    "\n",
    "    return \"vote_result\""
   ]
  },
  {
   "cell_type": "code",
   "execution_count": 88,
   "metadata": {},
   "outputs": [
    {
     "name": "stdout",
     "output_type": "stream",
     "text": [
      "[4]\n",
      "4\n",
      "[4]\n",
      "4\n",
      "['p']\n",
      "p\n",
      "['u']\n",
      "u\n",
      "[4]\n",
      "4\n",
      "[4]\n",
      "4\n",
      "['p']\n",
      "p\n",
      "['y']\n",
      "y\n",
      "['e']\n",
      "e\n",
      "[4, 4, 'p', 'u', 4, 4, 'p', 'y', 'e']\n",
      "4\n"
     ]
    }
   ],
   "source": [
    "votes = [[4], [4], [\"p\"], [\"u\"], [4], [4], [\"p\"], [\"y\"], [\"e\"]]\n",
    "true_votes = []\n",
    "for i in votes:\n",
    "    print(i)\n",
    "    print(i[0])\n",
    "    true_votes.append(i[0])\n",
    "\n",
    "\n",
    "\n",
    "print(true_votes)\n",
    "print(Counter(true_votes).most_common(1)[0][0])"
   ]
  },
  {
   "cell_type": "code",
   "execution_count": 83,
   "metadata": {},
   "outputs": [
    {
     "name": "stdout",
     "output_type": "stream",
     "text": [
      "true_votes ['r', 'r', 'r']\n",
      "vote_result\n"
     ]
    }
   ],
   "source": [
    "result = k_nearest_neighbors(dataset, new_features, 3)\n",
    "print(result)"
   ]
  },
  {
   "cell_type": "code",
   "execution_count": 84,
   "metadata": {},
   "outputs": [
    {
     "name": "stdout",
     "output_type": "stream",
     "text": [
      "[[5.0, 1.0, 1.0, 1.0, 2.0, 1.0, 3.0, 1.0, 1.0, 2.0], [5.0, 4.0, 4.0, 5.0, 7.0, 10.0, 3.0, 2.0, 1.0, 2.0], [3.0, 1.0, 1.0, 1.0, 2.0, 2.0, 3.0, 1.0, 1.0, 2.0], [6.0, 8.0, 8.0, 1.0, 3.0, 4.0, 3.0, 7.0, 1.0, 2.0], [4.0, 1.0, 1.0, 3.0, 2.0, 1.0, 3.0, 1.0, 1.0, 2.0], [8.0, 10.0, 10.0, 8.0, 7.0, 10.0, 9.0, 7.0, 1.0, 4.0], [1.0, 1.0, 1.0, 1.0, 2.0, 10.0, 3.0, 1.0, 1.0, 2.0], [2.0, 1.0, 2.0, 1.0, 2.0, 1.0, 3.0, 1.0, 1.0, 2.0], [2.0, 1.0, 1.0, 1.0, 2.0, 1.0, 1.0, 1.0, 5.0, 2.0], [4.0, 2.0, 1.0, 1.0, 2.0, 1.0, 2.0, 1.0, 1.0, 2.0]]\n"
     ]
    }
   ],
   "source": [
    "# applying KNN built from scratch\n",
    "\n",
    "df = pd.read_csv('breast-cancer-wisconsin.data')\n",
    "df.replace('?', -99999, inplace=True)\n",
    "df.drop(['id'], 1, inplace=True)\n",
    "\n",
    "full_data = df.astype(float).values.tolist()\n",
    "\n",
    "print(full_data[:10])"
   ]
  },
  {
   "cell_type": "code",
   "execution_count": 85,
   "metadata": {},
   "outputs": [
    {
     "name": "stdout",
     "output_type": "stream",
     "text": [
      "[[5.0, 3.0, 4.0, 1.0, 8.0, 10.0, 4.0, 9.0, 1.0, 4.0], [8.0, 6.0, 7.0, 3.0, 3.0, 10.0, 3.0, 4.0, 2.0, 4.0], [1.0, 1.0, 1.0, 2.0, 2.0, 1.0, 2.0, 1.0, 1.0, 2.0], [1.0, 1.0, 1.0, 1.0, 2.0, 1.0, 2.0, 1.0, 1.0, 2.0], [1.0, 1.0, 1.0, 1.0, 2.0, 1.0, 3.0, 1.0, 1.0, 2.0], [1.0, 1.0, 3.0, 1.0, 2.0, 1.0, 2.0, 1.0, 1.0, 2.0], [3.0, 3.0, 2.0, 6.0, 3.0, 3.0, 3.0, 5.0, 1.0, 2.0], [2.0, 1.0, 1.0, 1.0, 2.0, 5.0, 1.0, 1.0, 1.0, 2.0], [1.0, 1.0, 1.0, 1.0, 1.0, 1.0, 2.0, 1.0, 1.0, 2.0], [5.0, 1.0, 1.0, 1.0, 2.0, 1.0, 2.0, 1.0, 1.0, 2.0]]\n"
     ]
    }
   ],
   "source": [
    "random.shuffle(full_data)\n",
    "print(full_data[:10])"
   ]
  },
  {
   "cell_type": "code",
   "execution_count": 86,
   "metadata": {},
   "outputs": [],
   "source": [
    "test_size = 0.2\n",
    "train_set = {2: [], 4:[]}\n",
    "test_set = {2: [], 4:[]}\n",
    "\n",
    "train_data = full_data[:-(int)(test_size*len(full_data))]\n",
    "test_data = full_data[-(int)(test_size*len(full_data)):]\n",
    "\n",
    "for i in train_data:\n",
    "    train_set[i[-1]].append(i[:-1])\n",
    "    \n",
    "for i in test_data:\n",
    "    test_set[i[-1]].append(i[:-1])"
   ]
  },
  {
   "cell_type": "code",
   "execution_count": 87,
   "metadata": {},
   "outputs": [
    {
     "name": "stdout",
     "output_type": "stream",
     "text": [
      "true_votes [2, 2, 2, 2, 2]\n",
      "true_votes [2, 2, 2, 2, 2]\n",
      "true_votes [2, 2, 2, 2, 2]\n",
      "true_votes [2, 2, 2, 2, 2]\n",
      "true_votes [2, 2, 2, 2, 2]\n",
      "true_votes [2, 2, 2, 2, 2]\n",
      "true_votes [2, 2, 2, 2, 2]\n",
      "true_votes [2, 2, 2, 2, 2]\n",
      "true_votes [2, 2, 2, 2, 2]\n",
      "true_votes [2, 2, 2, 2, 2]\n",
      "true_votes [2, 2, 2, 2, 2]\n",
      "true_votes [2, 2, 2, 2, 2]\n",
      "true_votes [2, 2, 2, 2, 2]\n",
      "true_votes [2, 2, 2, 2, 2]\n",
      "true_votes [2, 2, 2, 2, 2]\n",
      "true_votes [2, 2, 2, 2, 2]\n",
      "true_votes [2, 2, 2, 2, 2]\n",
      "true_votes [2, 2, 2, 2, 2]\n",
      "true_votes [2, 2, 2, 2, 2]\n",
      "true_votes [2, 2, 2, 2, 2]\n",
      "true_votes [2, 2, 2, 2, 2]\n",
      "true_votes [2, 2, 2, 2, 2]\n",
      "true_votes [2, 2, 2, 2, 2]\n",
      "true_votes [2, 2, 2, 2, 2]\n",
      "true_votes [2, 2, 2, 2, 2]\n",
      "true_votes [2, 2, 2, 2, 2]\n",
      "true_votes [2, 2, 2, 2, 2]\n",
      "true_votes [2, 2, 2, 2, 2]\n",
      "true_votes [2, 2, 2, 2, 2]\n",
      "true_votes [2, 2, 2, 2, 2]\n",
      "true_votes [2, 2, 2, 2, 2]\n",
      "true_votes [2, 2, 2, 2, 2]\n",
      "true_votes [2, 2, 2, 2, 2]\n",
      "true_votes [2, 2, 2, 2, 2]\n",
      "true_votes [2, 2, 2, 2, 2]\n",
      "true_votes [2, 2, 2, 2, 2]\n",
      "true_votes [2, 2, 2, 2, 2]\n",
      "true_votes [2, 2, 2, 2, 2]\n",
      "true_votes [2, 2, 2, 2, 2]\n",
      "true_votes [2, 2, 2, 2, 2]\n",
      "true_votes [2, 2, 2, 2, 2]\n",
      "true_votes [2, 2, 2, 2, 2]\n",
      "true_votes [2, 2, 2, 2, 2]\n",
      "true_votes [2, 2, 2, 2, 2]\n",
      "true_votes [2, 2, 2, 2, 2]\n",
      "true_votes [2, 2, 2, 2, 2]\n",
      "true_votes [2, 2, 2, 2, 2]\n",
      "true_votes [2, 4, 4, 2, 2]\n",
      "true_votes [2, 4, 2, 2, 2]\n",
      "true_votes [2, 2, 2, 2, 2]\n",
      "true_votes [2, 2, 2, 2, 2]\n",
      "true_votes [2, 2, 2, 2, 2]\n",
      "true_votes [2, 2, 2, 2, 2]\n",
      "true_votes [2, 2, 2, 2, 2]\n",
      "true_votes [2, 2, 2, 2, 2]\n",
      "true_votes [2, 2, 2, 2, 2]\n",
      "true_votes [2, 2, 2, 2, 2]\n",
      "true_votes [2, 2, 2, 2, 2]\n",
      "true_votes [2, 2, 2, 2, 2]\n",
      "true_votes [2, 2, 2, 2, 2]\n",
      "true_votes [2, 2, 2, 2, 2]\n",
      "true_votes [2, 2, 2, 2, 2]\n",
      "true_votes [2, 2, 2, 2, 2]\n",
      "true_votes [2, 2, 2, 2, 2]\n",
      "true_votes [2, 2, 2, 2, 2]\n",
      "true_votes [2, 2, 2, 2, 2]\n",
      "true_votes [2, 2, 2, 2, 2]\n",
      "true_votes [2, 2, 2, 2, 2]\n",
      "true_votes [2, 2, 2, 2, 2]\n",
      "true_votes [2, 2, 2, 2, 2]\n",
      "true_votes [2, 2, 2, 2, 2]\n",
      "true_votes [2, 2, 2, 2, 2]\n",
      "true_votes [2, 2, 2, 2, 2]\n",
      "true_votes [2, 2, 2, 2, 2]\n",
      "true_votes [2, 2, 2, 2, 2]\n",
      "true_votes [2, 2, 2, 2, 2]\n",
      "true_votes [2, 2, 2, 2, 2]\n",
      "true_votes [2, 2, 2, 2, 2]\n",
      "true_votes [4, 4, 4, 4, 2]\n",
      "true_votes [2, 2, 2, 2, 2]\n",
      "true_votes [2, 2, 2, 2, 2]\n",
      "true_votes [2, 2, 2, 2, 2]\n",
      "true_votes [2, 2, 2, 2, 2]\n",
      "true_votes [2, 2, 2, 2, 2]\n",
      "true_votes [2, 2, 2, 2, 2]\n",
      "true_votes [2, 2, 2, 2, 2]\n",
      "true_votes [2, 2, 2, 2, 2]\n",
      "true_votes [2, 2, 2, 2, 2]\n",
      "true_votes [2, 2, 2, 2, 2]\n",
      "true_votes [2, 2, 2, 2, 2]\n",
      "true_votes [2, 2, 2, 2, 2]\n",
      "true_votes [4, 4, 4, 4, 4]\n",
      "true_votes [4, 4, 4, 4, 4]\n",
      "true_votes [4, 4, 4, 4, 4]\n",
      "true_votes [4, 4, 4, 4, 4]\n",
      "true_votes [4, 4, 4, 4, 4]\n",
      "true_votes [4, 4, 4, 4, 4]\n",
      "true_votes [4, 4, 4, 4, 4]\n",
      "true_votes [4, 4, 4, 4, 4]\n",
      "true_votes [4, 4, 4, 4, 4]\n",
      "true_votes [4, 2, 4, 4, 2]\n",
      "true_votes [4, 4, 4, 4, 4]\n",
      "true_votes [4, 4, 4, 4, 4]\n",
      "true_votes [4, 4, 2, 4, 2]\n",
      "true_votes [4, 4, 4, 2, 4]\n",
      "true_votes [4, 4, 4, 4, 4]\n",
      "true_votes [4, 4, 4, 4, 4]\n",
      "true_votes [4, 4, 4, 4, 4]\n",
      "true_votes [4, 4, 4, 4, 4]\n",
      "true_votes [4, 4, 4, 4, 4]\n",
      "true_votes [4, 4, 4, 4, 4]\n",
      "true_votes [4, 4, 4, 4, 4]\n",
      "true_votes [4, 4, 4, 4, 4]\n",
      "true_votes [4, 4, 4, 4, 4]\n",
      "true_votes [4, 4, 4, 4, 2]\n",
      "true_votes [4, 4, 4, 4, 4]\n",
      "true_votes [4, 4, 4, 4, 4]\n",
      "true_votes [4, 4, 4, 4, 4]\n",
      "true_votes [4, 4, 4, 4, 4]\n",
      "true_votes [4, 4, 4, 4, 4]\n",
      "true_votes [4, 2, 2, 4, 4]\n",
      "true_votes [2, 4, 4, 4, 2]\n",
      "true_votes [4, 4, 4, 4, 4]\n",
      "true_votes [4, 4, 4, 4, 4]\n",
      "true_votes [4, 4, 4, 4, 4]\n",
      "true_votes [4, 4, 4, 4, 4]\n",
      "true_votes [4, 4, 4, 4, 4]\n",
      "true_votes [4, 4, 4, 4, 4]\n",
      "true_votes [4, 4, 4, 4, 4]\n",
      "true_votes [4, 4, 4, 4, 4]\n",
      "true_votes [4, 2, 2, 2, 2]\n",
      "true_votes [4, 4, 2, 4, 4]\n",
      "true_votes [4, 4, 4, 4, 4]\n",
      "true_votes [4, 4, 4, 4, 4]\n",
      "true_votes [2, 2, 2, 2, 2]\n",
      "true_votes [4, 4, 4, 4, 4]\n",
      "true_votes [4, 4, 4, 4, 4]\n",
      "true_votes [4, 4, 4, 4, 4]\n",
      "true_votes [4, 4, 4, 4, 4]\n",
      "Accuracy:  0.0\n"
     ]
    }
   ],
   "source": [
    "correct = 0\n",
    "total = 0\n",
    "\n",
    "for group in test_set:\n",
    "    for data in test_set[group]:\n",
    "        vote = k_nearest_neighbors(train_set, data, k = 5)\n",
    "        if group == vote:\n",
    "            correct+=1\n",
    "        total+=1\n",
    "        \n",
    "print(\"Accuracy: \", correct/total)"
   ]
  },
  {
   "cell_type": "code",
   "execution_count": null,
   "metadata": {},
   "outputs": [],
   "source": []
  }
 ],
 "metadata": {
  "kernelspec": {
   "display_name": "Python 3",
   "language": "python",
   "name": "python3"
  },
  "language_info": {
   "codemirror_mode": {
    "name": "ipython",
    "version": 3
   },
   "file_extension": ".py",
   "mimetype": "text/x-python",
   "name": "python",
   "nbconvert_exporter": "python",
   "pygments_lexer": "ipython3",
   "version": "3.8.3"
  }
 },
 "nbformat": 4,
 "nbformat_minor": 4
}
